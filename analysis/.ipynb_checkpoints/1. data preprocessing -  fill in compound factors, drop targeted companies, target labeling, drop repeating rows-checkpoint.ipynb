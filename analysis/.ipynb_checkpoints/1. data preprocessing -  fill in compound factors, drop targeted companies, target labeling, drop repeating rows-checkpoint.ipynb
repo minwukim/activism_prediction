{
 "cells": [
  {
   "cell_type": "markdown",
   "id": "34dabda0",
   "metadata": {},
   "source": [
    "## Data Preprocessing -  process compound factors, drop repeating rows, drop targeted companies,  and target labeling"
   ]
  },
  {
   "cell_type": "markdown",
   "id": "1cab7d27",
   "metadata": {},
   "source": [
    "In this notebook, we do 3 data processings:\n",
    "1. Fill in compound factors\n",
    "2. Drop targeted companies\n",
    "3. drop repeating rows (different stocks issued by the same company)"
   ]
  },
  {
   "cell_type": "markdown",
   "id": "2ff4510e",
   "metadata": {},
   "source": [
    "# 0. Data & Package Import"
   ]
  },
  {
   "cell_type": "code",
   "execution_count": 1,
   "id": "2b048466",
   "metadata": {},
   "outputs": [],
   "source": [
    "import numpy as np\n",
    "import pandas as pd\n",
    "import matplotlib.pyplot as plt"
   ]
  },
  {
   "cell_type": "code",
   "execution_count": 2,
   "id": "800648a5",
   "metadata": {},
   "outputs": [],
   "source": [
    "df16 = pd.read_csv('../database/2016.csv')\n",
    "df17 = pd.read_csv('../database/2017.csv')\n",
    "df18 = pd.read_csv('../database/2018.csv')\n",
    "df19 = pd.read_csv('../database/2019.csv')\n",
    "df20 = pd.read_csv('../database/2020.csv')\n",
    "df21 = pd.read_csv('../database/2021.csv')\n",
    "df22 = pd.read_csv('../database/2022.csv')\n",
    "df_campaigns = pd.read_csv('../database/campaigns.csv')\n",
    "df = pd.concat([df16, df17, df18, df19, df20, df21, df22], ignore_index=True)"
   ]
  },
  {
   "cell_type": "code",
   "execution_count": 3,
   "id": "79b76464",
   "metadata": {},
   "outputs": [
    {
     "data": {
      "text/html": [
       "<div>\n",
       "<style scoped>\n",
       "    .dataframe tbody tr th:only-of-type {\n",
       "        vertical-align: middle;\n",
       "    }\n",
       "\n",
       "    .dataframe tbody tr th {\n",
       "        vertical-align: top;\n",
       "    }\n",
       "\n",
       "    .dataframe thead th {\n",
       "        text-align: right;\n",
       "    }\n",
       "</style>\n",
       "<table border=\"1\" class=\"dataframe\">\n",
       "  <thead>\n",
       "    <tr style=\"text-align: right;\">\n",
       "      <th></th>\n",
       "      <th>year</th>\n",
       "      <th>ID</th>\n",
       "      <th>ticker</th>\n",
       "      <th>company_name</th>\n",
       "      <th>market_cap</th>\n",
       "      <th>bic_level_2</th>\n",
       "      <th>bic_level_3</th>\n",
       "      <th>unequal_voting</th>\n",
       "      <th>ceo_tenure</th>\n",
       "      <th>ipo_date</th>\n",
       "      <th>...</th>\n",
       "      <th>net_repurchase</th>\n",
       "      <th>dividend_per_share</th>\n",
       "      <th>dividend_to_common</th>\n",
       "      <th>dividend_to_preferred</th>\n",
       "      <th>dividend_payout_ratio</th>\n",
       "      <th>total_compensation_to_executives</th>\n",
       "      <th>total_compensation_to_board_members</th>\n",
       "      <th>institution_ownership_percentage</th>\n",
       "      <th>asset_to_equity</th>\n",
       "      <th>cash_conversion_cycle</th>\n",
       "    </tr>\n",
       "  </thead>\n",
       "  <tbody>\n",
       "    <tr>\n",
       "      <th>0</th>\n",
       "      <td>2016</td>\n",
       "      <td>1518855D US Equity</td>\n",
       "      <td>1518855D</td>\n",
       "      <td>Yahoo! Inc - Set up for Fundam</td>\n",
       "      <td>3.690000e+10</td>\n",
       "      <td>Media</td>\n",
       "      <td>Internet Media &amp; Services</td>\n",
       "      <td>0.0</td>\n",
       "      <td>9.00000</td>\n",
       "      <td>NaN</td>\n",
       "      <td>...</td>\n",
       "      <td>-2.200000e+07</td>\n",
       "      <td>0.00</td>\n",
       "      <td>0.000000e+00</td>\n",
       "      <td>0.0</td>\n",
       "      <td>NaN</td>\n",
       "      <td>8510000.0</td>\n",
       "      <td>1150000.000</td>\n",
       "      <td>NaN</td>\n",
       "      <td>1.57</td>\n",
       "      <td>NaN</td>\n",
       "    </tr>\n",
       "    <tr>\n",
       "      <th>1</th>\n",
       "      <td>2016</td>\n",
       "      <td>1539941D UN Equity</td>\n",
       "      <td>1539941D</td>\n",
       "      <td>Spectra Energy LLC</td>\n",
       "      <td>2.880000e+10</td>\n",
       "      <td>Oil &amp; Gas</td>\n",
       "      <td>Oil &amp; Gas Producers</td>\n",
       "      <td>0.0</td>\n",
       "      <td>4.25000</td>\n",
       "      <td>NaN</td>\n",
       "      <td>...</td>\n",
       "      <td>-1.600000e+09</td>\n",
       "      <td>1.59</td>\n",
       "      <td>1.090000e+09</td>\n",
       "      <td>NaN</td>\n",
       "      <td>345.47300</td>\n",
       "      <td>23471757.0</td>\n",
       "      <td>3602528.659</td>\n",
       "      <td>41.5</td>\n",
       "      <td>3.00</td>\n",
       "      <td>14.6</td>\n",
       "    </tr>\n",
       "    <tr>\n",
       "      <th>2</th>\n",
       "      <td>2016</td>\n",
       "      <td>1556442D UA Equity</td>\n",
       "      <td>1556442D</td>\n",
       "      <td>GigPeak Inc</td>\n",
       "      <td>1.710000e+08</td>\n",
       "      <td>Tech Hardware &amp; Semiconductors</td>\n",
       "      <td>Semiconductors</td>\n",
       "      <td>0.0</td>\n",
       "      <td>9.66667</td>\n",
       "      <td>NaN</td>\n",
       "      <td>...</td>\n",
       "      <td>NaN</td>\n",
       "      <td>0.00</td>\n",
       "      <td>0.000000e+00</td>\n",
       "      <td>0.0</td>\n",
       "      <td>0.00000</td>\n",
       "      <td>126000000.0</td>\n",
       "      <td>NaN</td>\n",
       "      <td>NaN</td>\n",
       "      <td>1.30</td>\n",
       "      <td>173.0</td>\n",
       "    </tr>\n",
       "    <tr>\n",
       "      <th>3</th>\n",
       "      <td>2016</td>\n",
       "      <td>1624250D UW Equity</td>\n",
       "      <td>1624250D</td>\n",
       "      <td>Bazaarvoice Inc</td>\n",
       "      <td>4.050000e+08</td>\n",
       "      <td>Software &amp; Tech Services</td>\n",
       "      <td>Software</td>\n",
       "      <td>0.0</td>\n",
       "      <td>2.25000</td>\n",
       "      <td>NaN</td>\n",
       "      <td>...</td>\n",
       "      <td>NaN</td>\n",
       "      <td>0.00</td>\n",
       "      <td>0.000000e+00</td>\n",
       "      <td>0.0</td>\n",
       "      <td>NaN</td>\n",
       "      <td>8504795.0</td>\n",
       "      <td>1617207.000</td>\n",
       "      <td>96.4</td>\n",
       "      <td>1.72</td>\n",
       "      <td>NaN</td>\n",
       "    </tr>\n",
       "    <tr>\n",
       "      <th>4</th>\n",
       "      <td>2016</td>\n",
       "      <td>1624831D UN Equity</td>\n",
       "      <td>1624831D</td>\n",
       "      <td>TIAA FSB Holdings Inc</td>\n",
       "      <td>2.460000e+09</td>\n",
       "      <td>Banking</td>\n",
       "      <td>Banking</td>\n",
       "      <td>0.0</td>\n",
       "      <td>20.00000</td>\n",
       "      <td>NaN</td>\n",
       "      <td>...</td>\n",
       "      <td>NaN</td>\n",
       "      <td>0.24</td>\n",
       "      <td>3.004690e+07</td>\n",
       "      <td>10125000.0</td>\n",
       "      <td>24.70332</td>\n",
       "      <td>8194543.0</td>\n",
       "      <td>1068000.000</td>\n",
       "      <td>89.0</td>\n",
       "      <td>15.10</td>\n",
       "      <td>NaN</td>\n",
       "    </tr>\n",
       "  </tbody>\n",
       "</table>\n",
       "<p>5 rows × 79 columns</p>\n",
       "</div>"
      ],
      "text/plain": [
       "   year                  ID    ticker                    company_name  \\\n",
       "0  2016  1518855D US Equity  1518855D  Yahoo! Inc - Set up for Fundam   \n",
       "1  2016  1539941D UN Equity  1539941D              Spectra Energy LLC   \n",
       "2  2016  1556442D UA Equity  1556442D                     GigPeak Inc   \n",
       "3  2016  1624250D UW Equity  1624250D                 Bazaarvoice Inc   \n",
       "4  2016  1624831D UN Equity  1624831D           TIAA FSB Holdings Inc   \n",
       "\n",
       "     market_cap                     bic_level_2                bic_level_3  \\\n",
       "0  3.690000e+10                           Media  Internet Media & Services   \n",
       "1  2.880000e+10                       Oil & Gas        Oil & Gas Producers   \n",
       "2  1.710000e+08  Tech Hardware & Semiconductors             Semiconductors   \n",
       "3  4.050000e+08        Software & Tech Services                   Software   \n",
       "4  2.460000e+09                         Banking                    Banking   \n",
       "\n",
       "   unequal_voting  ceo_tenure ipo_date  ...  net_repurchase  \\\n",
       "0             0.0     9.00000      NaN  ...   -2.200000e+07   \n",
       "1             0.0     4.25000      NaN  ...   -1.600000e+09   \n",
       "2             0.0     9.66667      NaN  ...             NaN   \n",
       "3             0.0     2.25000      NaN  ...             NaN   \n",
       "4             0.0    20.00000      NaN  ...             NaN   \n",
       "\n",
       "   dividend_per_share  dividend_to_common  dividend_to_preferred  \\\n",
       "0                0.00        0.000000e+00                    0.0   \n",
       "1                1.59        1.090000e+09                    NaN   \n",
       "2                0.00        0.000000e+00                    0.0   \n",
       "3                0.00        0.000000e+00                    0.0   \n",
       "4                0.24        3.004690e+07             10125000.0   \n",
       "\n",
       "   dividend_payout_ratio  total_compensation_to_executives  \\\n",
       "0                    NaN                         8510000.0   \n",
       "1              345.47300                        23471757.0   \n",
       "2                0.00000                       126000000.0   \n",
       "3                    NaN                         8504795.0   \n",
       "4               24.70332                         8194543.0   \n",
       "\n",
       "   total_compensation_to_board_members  institution_ownership_percentage  \\\n",
       "0                          1150000.000                               NaN   \n",
       "1                          3602528.659                              41.5   \n",
       "2                                  NaN                               NaN   \n",
       "3                          1617207.000                              96.4   \n",
       "4                          1068000.000                              89.0   \n",
       "\n",
       "   asset_to_equity  cash_conversion_cycle  \n",
       "0             1.57                    NaN  \n",
       "1             3.00                   14.6  \n",
       "2             1.30                  173.0  \n",
       "3             1.72                    NaN  \n",
       "4            15.10                    NaN  \n",
       "\n",
       "[5 rows x 79 columns]"
      ]
     },
     "execution_count": 3,
     "metadata": {},
     "output_type": "execute_result"
    }
   ],
   "source": [
    "df.head()"
   ]
  },
  {
   "cell_type": "markdown",
   "id": "948e32b8",
   "metadata": {},
   "source": [
    "# 1. process compound factors"
   ]
  },
  {
   "cell_type": "markdown",
   "id": "820a4855",
   "metadata": {},
   "source": [
    "The compound factors to process are shown below:\n",
    " - operating_margin_3y_average       \n",
    " - operating_margin_below_3y_average \n",
    " - volume_30d_average_to_outstanding\n",
    " - total_return_##\n",
    " - dividend_payout_ratio"
   ]
  },
  {
   "cell_type": "markdown",
   "id": "a08f8bcd",
   "metadata": {},
   "source": [
    "## 1.1 operating_margin_3y_average"
   ]
  },
  {
   "cell_type": "markdown",
   "id": "6ee61dc7",
   "metadata": {},
   "source": [
    "**operating_margin_3y_average** is the mean value of these three values:\n",
    "- operating_margin\t\n",
    "- operating_margin_2y_before\t\n",
    "- operating_margin_1y_before\n",
    "\n",
    "For each row, if there is at least one value, compute the average. Else, fill it in with NaN"
   ]
  },
  {
   "cell_type": "code",
   "execution_count": 4,
   "id": "a7bd2fe6",
   "metadata": {},
   "outputs": [],
   "source": [
    "cols_to_avg = [\"operating_margin\", \"operating_margin_2y_before\", \"operating_margin_1y_before\"]\n",
    "df[\"operating_margin_3y_average\"] = df[cols_to_avg].mean(axis=1)"
   ]
  },
  {
   "cell_type": "markdown",
   "id": "21028888",
   "metadata": {},
   "source": [
    "## 1.2 operating_margin_below_3y_average"
   ]
  },
  {
   "cell_type": "markdown",
   "id": "56e76ce8",
   "metadata": {},
   "source": [
    "**operating_margin_below_3y_average** is a boolean value (1: TRUE, 0: FALSE) \n",
    "- If 'operating_margin' is NaN: fill it with NaN\n",
    "- If 'operating_margin' is not NaN: fill it with the boolean value by comparing operating_margin and operating_margin_3y_average"
   ]
  },
  {
   "cell_type": "code",
   "execution_count": 5,
   "id": "492ff6c2",
   "metadata": {},
   "outputs": [],
   "source": [
    "df['operating_margin_below_3y_average'] = np.where(\n",
    "    df['operating_margin'].isna(), \n",
    "    np.nan, \n",
    "    (df['operating_margin'] < df['operating_margin_3y_average']).astype(int)\n",
    ")"
   ]
  },
  {
   "cell_type": "markdown",
   "id": "f8668ed6",
   "metadata": {},
   "source": [
    "### ISSUE 1:  What if there is only **operating_margin** not NaN? Should I fill it with 1, 0, or 0.5?\n",
    "For now, I fill it with 0, since it conservatively counts where there was a strict decline of the operating margin.\n",
    "\n",
    "Also, I printed the total number of rows having such a case. The number was 853 as shown below.\n"
   ]
  },
  {
   "cell_type": "code",
   "execution_count": 6,
   "id": "25474bad",
   "metadata": {},
   "outputs": [
    {
     "name": "stdout",
     "output_type": "stream",
     "text": [
      "853\n"
     ]
    }
   ],
   "source": [
    "count = df[(df['operating_margin'].notna()) & \n",
    "           (df['operating_margin_2y_before'].isna()) & \n",
    "           (df['operating_margin_1y_before'].isna())].shape[0]\n",
    "print(count)"
   ]
  },
  {
   "cell_type": "markdown",
   "id": "499d9e9c",
   "metadata": {},
   "source": [
    "### ISSUE 2: What if there is only operating_margin being NaN? Should I compare the value between operating_margin_2y_before and operating_margin_1y_before? \n",
    "\n",
    "For now, I did compare these two values as shown below as it reduces the number of missing values. However, maybe we need to have a further discussion regarding this. "
   ]
  },
  {
   "cell_type": "code",
   "execution_count": 7,
   "id": "c905b175",
   "metadata": {},
   "outputs": [],
   "source": [
    "mask = (df['operating_margin'].isna() & \n",
    "        df['operating_margin_2y_before'].notna() & \n",
    "        df['operating_margin_1y_before'].notna())\n",
    "\n",
    "df.loc[mask, 'operating_margin_below_3y_average'] = (df['operating_margin_2y_before'] > df['operating_margin_1y_before']).astype(int)"
   ]
  },
  {
   "cell_type": "markdown",
   "id": "df52ce87",
   "metadata": {},
   "source": [
    "Also, I printed the total number of rows having such a case. The number was 63 as shown below:"
   ]
  },
  {
   "cell_type": "code",
   "execution_count": 8,
   "id": "d1df7d8f",
   "metadata": {},
   "outputs": [
    {
     "name": "stdout",
     "output_type": "stream",
     "text": [
      "63\n"
     ]
    }
   ],
   "source": [
    "count = df[(df['operating_margin'].isna()) & \n",
    "           (df['operating_margin_2y_before'].notna()) & \n",
    "           (df['operating_margin_1y_before'].notna())].shape[0]\n",
    "print(count)"
   ]
  },
  {
   "cell_type": "markdown",
   "id": "980e75e9",
   "metadata": {},
   "source": [
    "After all these data preprocessings, the total number of NaN for \"operating_margin_below_3y_average\" was 822, which was about 3.91% of the entire dataset."
   ]
  },
  {
   "cell_type": "code",
   "execution_count": 9,
   "id": "ae42f11b",
   "metadata": {},
   "outputs": [
    {
     "name": "stdout",
     "output_type": "stream",
     "text": [
      "number of missing values: 822\n",
      "percentage of missing values: 3.91%\n"
     ]
    }
   ],
   "source": [
    "count = df[df['operating_margin_below_3y_average'].isna()].shape[0]\n",
    "percentage = count / df.shape[0]\n",
    "print(\"number of missing values: {}\".format(count))\n",
    "print(\"percentage of missing values: {:.2f}%\".format(percentage * 100))"
   ]
  },
  {
   "cell_type": "markdown",
   "id": "50acd0d7",
   "metadata": {},
   "source": [
    "## 1.3 volume_30d_average_to_outstanding"
   ]
  },
  {
   "cell_type": "markdown",
   "id": "e41736f3",
   "metadata": {},
   "source": [
    "**volume_30d_average_to_outstanding** is calculate as 30-trading-day average trading volume over outstanding shares\n",
    "- 30-trading-day average trading volume has the column named **volume_30d_average**\n",
    "- outstanding shares have two very similar fields **current_shares_outstanding** and **shares_outstanding**"
   ]
  },
  {
   "cell_type": "markdown",
   "id": "8b4b0349",
   "metadata": {},
   "source": [
    "### ISSUE 1: Should I use current_shares_outstanding or shares_outstanding?\n",
    "\n",
    "In order to do so, I did 2 things:\n",
    "1. Pick default: Check the number of cases where only former is missing and only latter is missing. Pick the one with fewer missing values as the default and fill in the rest with the other when only the other is not missing.\n",
    "2. Validation: Compute the distribution of the difference between the two. "
   ]
  },
  {
   "cell_type": "markdown",
   "id": "2e296d80",
   "metadata": {},
   "source": [
    "#### 1. Pick default"
   ]
  },
  {
   "cell_type": "code",
   "execution_count": 10,
   "id": "e806724c",
   "metadata": {},
   "outputs": [
    {
     "name": "stdout",
     "output_type": "stream",
     "text": [
      "Number of rows where only 'current_shares_outstanding' is NaN: 22\n",
      "Number of rows where only 'shares_outstanding' is NaN: 248\n"
     ]
    }
   ],
   "source": [
    "only_current_na = df[(df['current_shares_outstanding'].isna()) & (df['shares_outstanding'].notna())]\n",
    "only_shares_na = df[(df['current_shares_outstanding'].notna()) & (df['shares_outstanding'].isna())]\n",
    "print(f\"Number of rows where only 'current_shares_outstanding' is NaN: {len(only_current_na)}\")\n",
    "print(f\"Number of rows where only 'shares_outstanding' is NaN: {len(only_shares_na)}\")"
   ]
  },
  {
   "cell_type": "markdown",
   "id": "ea9765aa",
   "metadata": {},
   "source": [
    "Since there are much less missing values for **current_shares_outstanding**, we make the new column **final_shares_outstanding** where it has the value of **current_shares_outstanding** as default and has the value of **shares_outstanding** when only **shares_outstanding** is not NaN."
   ]
  },
  {
   "cell_type": "code",
   "execution_count": 11,
   "id": "31e736a3",
   "metadata": {},
   "outputs": [],
   "source": [
    "df['final_shares_outstanding'] = df['current_shares_outstanding']\n",
    "mask = (df['current_shares_outstanding'].isna()) & (df['shares_outstanding'].notna())\n",
    "df.loc[mask, 'final_shares_outstanding'] = df.loc[mask, 'shares_outstanding']"
   ]
  },
  {
   "cell_type": "markdown",
   "id": "88001401",
   "metadata": {},
   "source": [
    "As shown below, after preprocessing, only 4 rows have missing values in **final_shares_outstanding**, which is 0.02% of the entire dataset."
   ]
  },
  {
   "cell_type": "code",
   "execution_count": 12,
   "id": "fa4d7243",
   "metadata": {},
   "outputs": [
    {
     "name": "stdout",
     "output_type": "stream",
     "text": [
      "Total number of NaN values in 'final_shares_outstanding': 4\n",
      "Percentage of NaN values in 'final_shares_outstanding': 0.02%\n"
     ]
    }
   ],
   "source": [
    "total_na = df['final_shares_outstanding'].isna().sum()\n",
    "percentage_na = (total_na / len(df)) * 100\n",
    "print(f\"Total number of NaN values in 'final_shares_outstanding': {total_na}\")\n",
    "print(f\"Percentage of NaN values in 'final_shares_outstanding': {percentage_na:.2f}%\")"
   ]
  },
  {
   "cell_type": "markdown",
   "id": "da8f6805",
   "metadata": {},
   "source": [
    "#### 2. Validation"
   ]
  },
  {
   "cell_type": "code",
   "execution_count": 13,
   "id": "87afca73",
   "metadata": {},
   "outputs": [],
   "source": [
    "# from scipy.stats import ks_2samp\n",
    "\n",
    "# # Drop rows where either of the columns has NaN values\n",
    "# cleaned_df = df.dropna(subset=['current_shares_outstanding', 'shares_outstanding'])\n",
    "\n",
    "# # Descriptive Statistics\n",
    "# print(cleaned_df[['current_shares_outstanding', 'shares_outstanding']].describe())\n",
    "\n",
    "# # Histograms\n",
    "# cleaned_df[['current_shares_outstanding', 'shares_outstanding']].hist()\n",
    "# plt.show()\n",
    "\n",
    "# # Pairwise Plot\n",
    "# plt.scatter(cleaned_df['current_shares_outstanding'], cleaned_df['shares_outstanding'])\n",
    "# plt.xlabel('current_shares_outstanding')\n",
    "# plt.ylabel('shares_outstanding')\n",
    "# plt.show()\n",
    "\n",
    "# # MAD\n",
    "# mad = np.mean(np.abs(cleaned_df['current_shares_outstanding'] - cleaned_df['shares_outstanding']))\n",
    "# print(f\"Mean Absolute Difference: {mad}\")\n",
    "\n",
    "# # RMSE\n",
    "# rmse = np.sqrt(np.mean((cleaned_df['current_shares_outstanding'] - cleaned_df['shares_outstanding'])**2))\n",
    "# print(f\"Root Mean Square Error: {rmse}\")\n",
    "\n",
    "# # Kolmogorov-Smirnov Test\n",
    "# ks_statistic, ks_p_value = ks_2samp(df['current_shares_outstanding'].dropna(), df['shares_outstanding'].dropna())\n",
    "# print(f\"KS Statistic: {ks_statistic}\")\n",
    "# print(f\"KS P-value: {ks_p_value}\")\n"
   ]
  },
  {
   "cell_type": "markdown",
   "id": "ae0da6db",
   "metadata": {},
   "source": [
    "#### **volume_30d_average_to_outstanding** is the quotient between *volume_30d_average* and *final_shares_outstanding*. \n",
    "It is calculated only when both of the columns are not NaN. Otherwise, it is filled with NaN."
   ]
  },
  {
   "cell_type": "code",
   "execution_count": 14,
   "id": "16c3715c",
   "metadata": {},
   "outputs": [],
   "source": [
    "mask = df['volume_30d_average'].notna() & df['final_shares_outstanding'].notna()\n",
    "df.loc[mask, 'volume_30d_average_to_outstanding'] = df['volume_30d_average'] / df['final_shares_outstanding']"
   ]
  },
  {
   "cell_type": "markdown",
   "id": "975a1ba4",
   "metadata": {},
   "source": [
    "As shown below, after preprocessing, only 67 rows have missing values in **final_shares_outstanding**, which is 0.32% of the entire dataset."
   ]
  },
  {
   "cell_type": "code",
   "execution_count": 15,
   "id": "0a2fee1f",
   "metadata": {},
   "outputs": [
    {
     "name": "stdout",
     "output_type": "stream",
     "text": [
      "Total number of NaN values in 'volume_30d_average_to_outstanding': 27\n",
      "Percentage of NaN values in 'volume_30d_average_to_outstanding': 0.13%\n"
     ]
    }
   ],
   "source": [
    "total_na = df['volume_30d_average_to_outstanding'].isna().sum()\n",
    "percentage_na = (total_na / len(df)) * 100\n",
    "print(f\"Total number of NaN values in 'volume_30d_average_to_outstanding': {total_na}\")\n",
    "print(f\"Percentage of NaN values in 'volume_30d_average_to_outstanding': {percentage_na:.2f}%\")"
   ]
  },
  {
   "cell_type": "markdown",
   "id": "6de26840",
   "metadata": {},
   "source": [
    "## 1.4 total_return_##"
   ]
  },
  {
   "cell_type": "markdown",
   "id": "c4879d5e",
   "metadata": {},
   "source": [
    "There is an issue regarding **total_return_##**. \n",
    "\n",
    "Say a company was initially offered 3 years before. In this original data, 5-year return, 4-year return, and 3-year return will have the same values. \n",
    "\n",
    "Therefore, what we should do is that, if the two neighboring values of returns are equal to each other, we should replace the value as N/A for the longer return. \n",
    "\n",
    "The **total_return_##** fields are specified as followed:\n",
    "- total_return_5y\n",
    "- total_return_4y\n",
    "- total_return_3y\n",
    "- total_return_2y\n",
    "- total_return_1y\n",
    "- total_return_6m\n",
    "- total_return_3m\n",
    "\n",
    "Also, if all the **total_return_##** fields have the value of 0,all of them should be filled as N/A"
   ]
  },
  {
   "cell_type": "code",
   "execution_count": 16,
   "id": "705eff13",
   "metadata": {},
   "outputs": [],
   "source": [
    "return_columns = ['total_return_5y', 'total_return_4y', 'total_return_3y','total_return_2y', 'total_return_1y', 'total_return_6m','total_return_3m']\n",
    "\n",
    "mask_all_zero = (df[return_columns] == 0).all(axis=1)\n",
    "df.loc[mask_all_zero, return_columns] = np.nan\n",
    "\n",
    "for i in range(len(return_columns) - 1):\n",
    "    mask = df[return_columns[i]] == df[return_columns[i + 1]]\n",
    "    df.loc[mask, return_columns[i]] = np.nan"
   ]
  },
  {
   "cell_type": "markdown",
   "id": "528b14be",
   "metadata": {},
   "source": [
    "## 1.5: dividend_payout_ratio"
   ]
  },
  {
   "cell_type": "markdown",
   "id": "fbd93423",
   "metadata": {},
   "source": [
    "**divident_payout_ratio = dividend amount / net income** and **dividend amount = dividend_to_common + dividend_to_preferred**\n",
    "\n",
    "**dividend_payout_ratio** has N/A in following 3 cases:\n",
    "- It is really unavailable.\n",
    "- All the values for calculation do exist, but the values are written as N/A.\n",
    "- When the ratio is negative (when net income is negative), the value is N/A\n",
    "\n",
    "So, what we do is:\n",
    "For all the rows whose **dividend_payout_ratio** is N/A, if at least one of the two columns **dividend_to_common** and **dividend_to_preferred** are not N/A, and **net_income** is not N/A, we fill the value for **dividend_payout_ratio** with the formula shown above."
   ]
  },
  {
   "cell_type": "code",
   "execution_count": 17,
   "id": "13fd56d9",
   "metadata": {},
   "outputs": [],
   "source": [
    "df['dividend_amount'] = df['dividend_to_common'].fillna(0) + df['dividend_to_preferred'].fillna(0)\n",
    "\n",
    "mask = df['dividend_payout_ratio'].isna() & \\\n",
    "       (~df['dividend_to_common'].isna() | ~df['dividend_to_preferred'].isna()) & \\\n",
    "       ~df['net_income'].isna() & \\\n",
    "       df['net_income'] > 0\n",
    "\n",
    "df.loc[mask, 'dividend_payout_ratio'] = df['dividend_amount'] / df['net_income']\n",
    "\n",
    "df.drop('dividend_amount', axis=1, inplace=True)"
   ]
  },
  {
   "cell_type": "markdown",
   "id": "a5e8b9bf",
   "metadata": {},
   "source": [
    "# 2. Drop repeating rows"
   ]
  },
  {
   "cell_type": "markdown",
   "id": "f785c376",
   "metadata": {},
   "source": [
    "There are some rows that are different shares issued by the same company. \n",
    "\n",
    "For example, *Alphabet Inc* issued *GOOG* and *GOOGL* (former has no voting rights but latter does).\n",
    "\n",
    "Since activists need to acquire voting rights for management involvement, we keep the one with more voting rights."
   ]
  },
  {
   "cell_type": "code",
   "execution_count": 18,
   "id": "a1b9c90d",
   "metadata": {},
   "outputs": [
    {
     "name": "stdout",
     "output_type": "stream",
     "text": [
      "Year: 2016\n",
      "                  Alphabet Inc\n",
      "             Brown-Forman Corp\n",
      "       Central Garden & Pet Co\n",
      "           Clearway Energy Inc\n",
      "               CommerceHub Inc\n",
      "                     Greif Inc\n",
      "                    HEICO Corp\n",
      "                   Lennar Corp\n",
      "        Liberty Broadband Corp\n",
      "Liberty Media Corp-Liberty Bra\n",
      "Liberty Media Corp-Liberty For\n",
      "Liberty Media Corp-Liberty Sir\n",
      " Lions Gate Entertainment Corp\n",
      "                     News Corp\n",
      "          Rush Enterprises Inc\n",
      "                     TFCF Corp\n",
      "              Under Armour Inc\n",
      "                    Viacom Inc\n",
      "     Warner Bros Discovery Inc\n",
      "              Zillow Group Inc\n",
      "\n",
      "\n",
      "Year: 2017\n",
      "                  Alphabet Inc\n",
      "             Brown-Forman Corp\n",
      "       Central Garden & Pet Co\n",
      "           Clearway Energy Inc\n",
      "               CommerceHub Inc\n",
      "                     Greif Inc\n",
      "                    HEICO Corp\n",
      "                   Lennar Corp\n",
      "        Liberty Broadband Corp\n",
      "Liberty Media Corp-Liberty Bra\n",
      "Liberty Media Corp-Liberty For\n",
      "Liberty Media Corp-Liberty Sir\n",
      " Lions Gate Entertainment Corp\n",
      "                     News Corp\n",
      "          Rush Enterprises Inc\n",
      "                     TFCF Corp\n",
      "              Under Armour Inc\n",
      "                    Viacom Inc\n",
      "     Warner Bros Discovery Inc\n",
      "              Zillow Group Inc\n",
      "\n",
      "\n",
      "Year: 2018\n",
      "                  Alphabet Inc\n",
      "          Biglari Holdings Inc\n",
      "             Brown-Forman Corp\n",
      "       Central Garden & Pet Co\n",
      "           Clearway Energy Inc\n",
      "                     Greif Inc\n",
      "                    HEICO Corp\n",
      "                   Lennar Corp\n",
      "        Liberty Broadband Corp\n",
      "     Liberty Latin America Ltd\n",
      "Liberty Media Corp-Liberty Bra\n",
      "Liberty Media Corp-Liberty For\n",
      "Liberty Media Corp-Liberty Sir\n",
      " Lions Gate Entertainment Corp\n",
      "                     News Corp\n",
      "          Rush Enterprises Inc\n",
      "                     TFCF Corp\n",
      "              Under Armour Inc\n",
      "                    Viacom Inc\n",
      "     Warner Bros Discovery Inc\n",
      "              Zillow Group Inc\n",
      "\n",
      "\n",
      "Year: 2019\n",
      "                  Alphabet Inc\n",
      "             Brown-Forman Corp\n",
      "       Central Garden & Pet Co\n",
      "           Clearway Energy Inc\n",
      "                      Fox Corp\n",
      "                     Greif Inc\n",
      "                    HEICO Corp\n",
      "                   Lennar Corp\n",
      "        Liberty Broadband Corp\n",
      "     Liberty Latin America Ltd\n",
      "Liberty Media Corp-Liberty Bra\n",
      "Liberty Media Corp-Liberty For\n",
      "Liberty Media Corp-Liberty Sir\n",
      " Lions Gate Entertainment Corp\n",
      "                     News Corp\n",
      "              Paramount Global\n",
      "          Rush Enterprises Inc\n",
      "              Under Armour Inc\n",
      "     Warner Bros Discovery Inc\n",
      "              Zillow Group Inc\n",
      "\n",
      "\n",
      "Year: 2020\n",
      "                  Alphabet Inc\n",
      "          Biglari Holdings Inc\n",
      "             Brown-Forman Corp\n",
      "       Central Garden & Pet Co\n",
      "           Clearway Energy Inc\n",
      "                      Fox Corp\n",
      "                     Greif Inc\n",
      "                    HEICO Corp\n",
      "                   Lennar Corp\n",
      "        Liberty Broadband Corp\n",
      "     Liberty Latin America Ltd\n",
      "Liberty Media Corp-Liberty Bra\n",
      "Liberty Media Corp-Liberty For\n",
      "Liberty Media Corp-Liberty Sir\n",
      " Lions Gate Entertainment Corp\n",
      "                     News Corp\n",
      "              Paramount Global\n",
      "          Rush Enterprises Inc\n",
      "              Under Armour Inc\n",
      "     Warner Bros Discovery Inc\n",
      "              Zillow Group Inc\n",
      "\n",
      "\n",
      "Year: 2021\n",
      "                  Alphabet Inc\n",
      "             Brown-Forman Corp\n",
      "       Central Garden & Pet Co\n",
      "           Clearway Energy Inc\n",
      "                      Fox Corp\n",
      "                     Greif Inc\n",
      "                    HEICO Corp\n",
      "                   Lennar Corp\n",
      "        Liberty Broadband Corp\n",
      "     Liberty Latin America Ltd\n",
      "Liberty Media Corp-Liberty Bra\n",
      "Liberty Media Corp-Liberty For\n",
      "Liberty Media Corp-Liberty Sir\n",
      " Lions Gate Entertainment Corp\n",
      "                     News Corp\n",
      "              Paramount Global\n",
      "          Rush Enterprises Inc\n",
      "          SL Green Realty Corp\n",
      "              Under Armour Inc\n",
      "     Warner Bros Discovery Inc\n",
      "              Zillow Group Inc\n",
      "\n",
      "\n",
      "Year: 2022\n",
      "                  Alphabet Inc\n",
      "             Brown-Forman Corp\n",
      "       Central Garden & Pet Co\n",
      "           Clearway Energy Inc\n",
      "                      Fox Corp\n",
      "                     Greif Inc\n",
      "                    HEICO Corp\n",
      "                   Lennar Corp\n",
      "        Liberty Broadband Corp\n",
      "     Liberty Latin America Ltd\n",
      "Liberty Media Corp-Liberty Bra\n",
      "Liberty Media Corp-Liberty For\n",
      "Liberty Media Corp-Liberty Sir\n",
      " Lions Gate Entertainment Corp\n",
      "                     News Corp\n",
      "              Paramount Global\n",
      "          Rush Enterprises Inc\n",
      "             U-Haul Holding Co\n",
      "              Under Armour Inc\n",
      "                 Urban One Inc\n",
      "              Zillow Group Inc\n",
      "\n",
      "\n"
     ]
    }
   ],
   "source": [
    "grouped = df.groupby(['year', 'company_name']).size().reset_index(name='counts')\n",
    "\n",
    "duplicates = grouped[grouped['counts'] > 1]\n",
    "\n",
    "for year in duplicates['year'].unique():\n",
    "    print(f\"Year: {year}\")\n",
    "    print(duplicates[duplicates['year'] == year]['company_name'].to_string(index=False))\n",
    "    print(\"\\n\")\n"
   ]
  },
  {
   "cell_type": "markdown",
   "id": "700eb84d",
   "metadata": {},
   "source": [
    "| Company Name                        | Ticker    | Votes per Share      |\n",
    "|-------------------------------------|-----------|----------------------|\n",
    "| Alphabet Inc                        | GOOGL     | 1                    |\n",
    "|                                     | GOOG      | 0                    |\n",
    "| Brown-Forman Corp                   | BF/A      | 1                    |\n",
    "|                                     | BF/B      | 0                    |\n",
    "| Central Garden & Pet Co             | CENT      | 1                    |\n",
    "|                                     | CENTA     | 0                    |\n",
    "| Clearway Energy Inc                 | CWEN      | 1                    |\n",
    "|                                     | CWEN/A    | 0                    |\n",
    "| CommerceHub Inc                     | CHUBA     | 1                    |\n",
    "|                                     | CHUBK     | 0                    |\n",
    "| Grief Inc                           | GEF       | 1                    |\n",
    "|                                     | GEF/B     | 0                    |\n",
    "| HEICO Corp                          | HEI       | 1                    |\n",
    "|                                     | HEI/A     | 1/10th               |\n",
    "| Lennar Corp                         | LEN/B     | 10                   |\n",
    "|                                     | LEN       | 1                    |\n",
    "| Liberty Broadband Corp              | LBRDA     | 1                    |\n",
    "|                                     | LBRDK     | 0                    |\n",
    "| Liberty Latin America Ltd           | LILA      | 1                    |\n",
    "|                                     | LILAK     | 0                    |\n",
    "| Liberty Media Corp-Liberty Bra      | 2293940D  | 1                    |\n",
    "|                                     | 2293944D  | 0                    |\n",
    "| Liberty Media Corp-Liberty For      | 2297264D  | 1                    |\n",
    "|                                     | 2297267D  | 0                    |\n",
    "| Liberty Media Corp-Liberty Sir      | 2297249D  | 1                    |\n",
    "|                                     | 2297268D  | 0                    |\n",
    "| Lions Gate Entertainment Corp       | LGF/A     | 1                    |\n",
    "|                                     | LGF/B     | 0                    |\n",
    "| News Corp                           | NWS       | 1                    |\n",
    "|                                     | NWSA      | 0                    |\n",
    "| Rush Enterprises Inc                | RUSHB     | 1                    |\n",
    "|                                     | RUSHA     | 1/20th               |\n",
    "| TFCF UW Equity                      | TFCF      | 1                    |\n",
    "|                                     | TFCFA     | 0                    |\n",
    "| Under Armour Inc                    | UAAA      | 1                    |\n",
    "|                                     | UAA       | 0                    |\n",
    "| Viacom Inc                          | VIAB      | 1                    |\n",
    "|                                     | 1910802D  | 0                    |\n",
    "| Warner Bros Discovery Inc           | DISCA     | 1                    |\n",
    "|                                     | DISCK     | 0                    |\n",
    "| Zillow Inc                          | ZG        | 1                    |\n",
    "|                                     | Z         | 0                    |\n",
    "| Biglari Holdings Inc                | BH/A      | 1                    |\n",
    "|                                     | BH        | 0                    |\n",
    "| Fox Corp                            | FOX       | 1                    |\n",
    "|                                     | FOXA      | 0                    |\n",
    "| Paramount Global                    | PARAA     | 1                    |\n",
    "|                                     | PARA      | 0                    |\n",
    "| SL Green Realty Corp                | SLG       | Normal               |\n",
    "|                                     | 1950546D  | lack of information  |\n",
    "| U-Haul Holding Co                   | UHAL      | 1                    |\n",
    "|                                     | UHAL/B    | 0                    |\n",
    "| Urban One Inc                       | UONE      | 1                    |\n",
    "|                                     | UONEK     | 0                    |\n"
   ]
  },
  {
   "cell_type": "markdown",
   "id": "745b2cb5",
   "metadata": {},
   "source": [
    "**PLUS**, Match Group from 2016 to 2019 has two different tickers **1812209D** and **1812212D**. The former should be dropped. "
   ]
  },
  {
   "cell_type": "markdown",
   "id": "ac871b29",
   "metadata": {},
   "source": [
    "Now, drop all the rows with no (or lower) voting rights. (**PLUS**, Match Group from 2016 to 2019 has two different tickers **1812209D** and **1812212D**. The latter should be dropped. )"
   ]
  },
  {
   "cell_type": "code",
   "execution_count": 19,
   "id": "47180a7c",
   "metadata": {},
   "outputs": [],
   "source": [
    "smaller_voting_rights_tickers = [\n",
    "    \"GOOG\", \"BF/B\", \"CENTA\", \"CWEN/A\", \"CHUBK\", \"GEF/B\", \"HEI/A\", \"LEN\", \n",
    "    \"LBRDK\", \"LILAK\", \"2293944D\", \"2297267D\", \"2297268D\", \"LGF/B\", \"NWSA\",\"RUSHA\", \n",
    "    \"TFCFA\", \"UAA\", \"DISCK\", \"Z\", \"BH\", \"FOXA\", \"PARA\", \"1950546D\", \"UHAL/B\", \"UONEK\", \"1812209D\",\"1910802D\"\n",
    "]\n",
    "df = df[~df['ticker'].isin(smaller_voting_rights_tickers)]"
   ]
  },
  {
   "cell_type": "markdown",
   "id": "0b9e1681",
   "metadata": {},
   "source": [
    "Now, double check and make sure that there is no 2 different stocks from 1 company."
   ]
  },
  {
   "cell_type": "code",
   "execution_count": 20,
   "id": "9edeab9d",
   "metadata": {},
   "outputs": [],
   "source": [
    "grouped = df.groupby(['year', 'company_name']).size().reset_index(name='counts')\n",
    "\n",
    "duplicates = grouped[grouped['counts'] > 1]\n",
    "\n",
    "for year in duplicates['year'].unique():\n",
    "    print(f\"Year: {year}\")\n",
    "    print(duplicates[duplicates['year'] == year]['company_name'].to_string(index=False))\n",
    "    print(\"\\n\")\n"
   ]
  },
  {
   "cell_type": "markdown",
   "id": "8bdff71e",
   "metadata": {},
   "source": [
    "As shown above, it printed nothing."
   ]
  },
  {
   "cell_type": "markdown",
   "id": "1aed75c2",
   "metadata": {},
   "source": [
    "# 3. Drop already targeted companies + target labelling"
   ]
  },
  {
   "cell_type": "markdown",
   "id": "3b41d7df",
   "metadata": {},
   "source": [
    "We have the database of all the activist campaigns from 2013 to 2022. We should do the processing for the followings:\n",
    "\n",
    "- For rows where **year** = 2016, \n",
    "    - First, remove all the rows where has been already targeted in 2013, 2014, 2015, and 2016.\n",
    "    - Second, label the column **targeted** as 1(True) if it was targeted in 2017. Keep it as 0 if not.\n",
    "- For rows where **year** = 2017, \n",
    "    - First, remove all the rows where has been already targeted in 2013, 2014, 2015, 2016, and 2017.\n",
    "    - Second, label the column **targeted** as 1(True) if it was targeted in 2018. Keep it as 0 if not.\n",
    "- ...\n",
    "- For rows where **year** = 2022, \n",
    "    - First, remove all the rows where has been already targeted in 2013, 2014 ... 2022. \n",
    "    - Second, label the column **targeted** as 1(True) if it was targeted in 2023. Keep it as 0 if not.\n",
    "\n",
    "    "
   ]
  },
  {
   "cell_type": "code",
   "execution_count": 21,
   "id": "0b9b13a1",
   "metadata": {},
   "outputs": [
    {
     "data": {
      "text/html": [
       "<div>\n",
       "<style scoped>\n",
       "    .dataframe tbody tr th:only-of-type {\n",
       "        vertical-align: middle;\n",
       "    }\n",
       "\n",
       "    .dataframe tbody tr th {\n",
       "        vertical-align: top;\n",
       "    }\n",
       "\n",
       "    .dataframe thead th {\n",
       "        text-align: right;\n",
       "    }\n",
       "</style>\n",
       "<table border=\"1\" class=\"dataframe\">\n",
       "  <thead>\n",
       "    <tr style=\"text-align: right;\">\n",
       "      <th></th>\n",
       "      <th>Company</th>\n",
       "      <th>Current_Ticker</th>\n",
       "      <th>Ticker_At_Start</th>\n",
       "      <th>Activist_Group</th>\n",
       "      <th>Objectives</th>\n",
       "      <th>Hp_Return</th>\n",
       "      <th>Market_Cap_At_Start</th>\n",
       "      <th>Stake_At_Start</th>\n",
       "      <th>Start_Date_And_Time</th>\n",
       "      <th>Year</th>\n",
       "      <th>...</th>\n",
       "      <th>Activist_Tier</th>\n",
       "      <th>Stake_Value_At_Start</th>\n",
       "      <th>One_Day_Return</th>\n",
       "      <th>One_Year_Return</th>\n",
       "      <th>Follower_Return</th>\n",
       "      <th>Annualized_Hp_Return</th>\n",
       "      <th>Hp_Alpha</th>\n",
       "      <th>One_Year_Alpha</th>\n",
       "      <th>Follower_Alpha</th>\n",
       "      <th>Activist_Tactics</th>\n",
       "    </tr>\n",
       "  </thead>\n",
       "  <tbody>\n",
       "    <tr>\n",
       "      <th>0</th>\n",
       "      <td>Digirad Corp</td>\n",
       "      <td>STRR US Equity</td>\n",
       "      <td>DRAD US</td>\n",
       "      <td>Red Oak Partners LLC</td>\n",
       "      <td>4: Board Control; Cost Cutting; Other (Reduce ...</td>\n",
       "      <td>57.61317</td>\n",
       "      <td>46818100.0</td>\n",
       "      <td>5.41</td>\n",
       "      <td>Start: 2013-03-18. UTC: 2013-03-18T21:15:23.000Z</td>\n",
       "      <td>2013</td>\n",
       "      <td>...</td>\n",
       "      <td>Secondary Focus</td>\n",
       "      <td>2532859.0</td>\n",
       "      <td>1.234568</td>\n",
       "      <td>46.96211</td>\n",
       "      <td>55.69106</td>\n",
       "      <td>57.61317</td>\n",
       "      <td>42.60003</td>\n",
       "      <td>24.5367</td>\n",
       "      <td>40.40065</td>\n",
       "      <td>Threaten Fight; Letter to Company; Formal Noti...</td>\n",
       "    </tr>\n",
       "  </tbody>\n",
       "</table>\n",
       "<p>1 rows × 22 columns</p>\n",
       "</div>"
      ],
      "text/plain": [
       "        Company  Current_Ticker Ticker_At_Start        Activist_Group  \\\n",
       "0  Digirad Corp  STRR US Equity         DRAD US  Red Oak Partners LLC   \n",
       "\n",
       "                                          Objectives  Hp_Return  \\\n",
       "0  4: Board Control; Cost Cutting; Other (Reduce ...   57.61317   \n",
       "\n",
       "   Market_Cap_At_Start  Stake_At_Start  \\\n",
       "0           46818100.0            5.41   \n",
       "\n",
       "                                Start_Date_And_Time  Year  ...  \\\n",
       "0  Start: 2013-03-18. UTC: 2013-03-18T21:15:23.000Z  2013  ...   \n",
       "\n",
       "     Activist_Tier  Stake_Value_At_Start One_Day_Return  One_Year_Return  \\\n",
       "0  Secondary Focus             2532859.0       1.234568         46.96211   \n",
       "\n",
       "   Follower_Return  Annualized_Hp_Return  Hp_Alpha  One_Year_Alpha  \\\n",
       "0         55.69106              57.61317  42.60003         24.5367   \n",
       "\n",
       "   Follower_Alpha                                   Activist_Tactics  \n",
       "0        40.40065  Threaten Fight; Letter to Company; Formal Noti...  \n",
       "\n",
       "[1 rows x 22 columns]"
      ]
     },
     "execution_count": 21,
     "metadata": {},
     "output_type": "execute_result"
    }
   ],
   "source": [
    "df_campaigns.head(1)"
   ]
  },
  {
   "cell_type": "code",
   "execution_count": 22,
   "id": "ffe0a330",
   "metadata": {},
   "outputs": [
    {
     "data": {
      "text/html": [
       "<div>\n",
       "<style scoped>\n",
       "    .dataframe tbody tr th:only-of-type {\n",
       "        vertical-align: middle;\n",
       "    }\n",
       "\n",
       "    .dataframe tbody tr th {\n",
       "        vertical-align: top;\n",
       "    }\n",
       "\n",
       "    .dataframe thead th {\n",
       "        text-align: right;\n",
       "    }\n",
       "</style>\n",
       "<table border=\"1\" class=\"dataframe\">\n",
       "  <thead>\n",
       "    <tr style=\"text-align: right;\">\n",
       "      <th></th>\n",
       "      <th>year</th>\n",
       "      <th>ID</th>\n",
       "      <th>ticker</th>\n",
       "      <th>company_name</th>\n",
       "      <th>market_cap</th>\n",
       "      <th>bic_level_2</th>\n",
       "      <th>bic_level_3</th>\n",
       "      <th>unequal_voting</th>\n",
       "      <th>ceo_tenure</th>\n",
       "      <th>ipo_date</th>\n",
       "      <th>...</th>\n",
       "      <th>dividend_per_share</th>\n",
       "      <th>dividend_to_common</th>\n",
       "      <th>dividend_to_preferred</th>\n",
       "      <th>dividend_payout_ratio</th>\n",
       "      <th>total_compensation_to_executives</th>\n",
       "      <th>total_compensation_to_board_members</th>\n",
       "      <th>institution_ownership_percentage</th>\n",
       "      <th>asset_to_equity</th>\n",
       "      <th>cash_conversion_cycle</th>\n",
       "      <th>final_shares_outstanding</th>\n",
       "    </tr>\n",
       "  </thead>\n",
       "  <tbody>\n",
       "    <tr>\n",
       "      <th>0</th>\n",
       "      <td>2016</td>\n",
       "      <td>1518855D US Equity</td>\n",
       "      <td>1518855D</td>\n",
       "      <td>Yahoo! Inc - Set up for Fundam</td>\n",
       "      <td>3.690000e+10</td>\n",
       "      <td>Media</td>\n",
       "      <td>Internet Media &amp; Services</td>\n",
       "      <td>0.0</td>\n",
       "      <td>9.0</td>\n",
       "      <td>NaN</td>\n",
       "      <td>...</td>\n",
       "      <td>0.0</td>\n",
       "      <td>0.0</td>\n",
       "      <td>0.0</td>\n",
       "      <td>-0.0</td>\n",
       "      <td>8510000.0</td>\n",
       "      <td>1150000.0</td>\n",
       "      <td>NaN</td>\n",
       "      <td>1.57</td>\n",
       "      <td>NaN</td>\n",
       "      <td>954000000.0</td>\n",
       "    </tr>\n",
       "  </tbody>\n",
       "</table>\n",
       "<p>1 rows × 80 columns</p>\n",
       "</div>"
      ],
      "text/plain": [
       "   year                  ID    ticker                    company_name  \\\n",
       "0  2016  1518855D US Equity  1518855D  Yahoo! Inc - Set up for Fundam   \n",
       "\n",
       "     market_cap bic_level_2                bic_level_3  unequal_voting  \\\n",
       "0  3.690000e+10       Media  Internet Media & Services             0.0   \n",
       "\n",
       "   ceo_tenure ipo_date  ...  dividend_per_share  dividend_to_common  \\\n",
       "0         9.0      NaN  ...                 0.0                 0.0   \n",
       "\n",
       "   dividend_to_preferred  dividend_payout_ratio  \\\n",
       "0                    0.0                   -0.0   \n",
       "\n",
       "   total_compensation_to_executives  total_compensation_to_board_members  \\\n",
       "0                         8510000.0                            1150000.0   \n",
       "\n",
       "   institution_ownership_percentage  asset_to_equity  cash_conversion_cycle  \\\n",
       "0                               NaN             1.57                    NaN   \n",
       "\n",
       "   final_shares_outstanding  \n",
       "0               954000000.0  \n",
       "\n",
       "[1 rows x 80 columns]"
      ]
     },
     "execution_count": 22,
     "metadata": {},
     "output_type": "execute_result"
    }
   ],
   "source": [
    "df.head(1)"
   ]
  },
  {
   "cell_type": "code",
   "execution_count": 23,
   "id": "5f4699df",
   "metadata": {},
   "outputs": [],
   "source": [
    "# Initialize the 'targeted' column with zeros\n",
    "df['targeted'] = 0\n",
    "\n",
    "for year in range(2016, 2023):\n",
    "    \n",
    "    current_year_mask = df['year'] == year\n",
    "    \n",
    "    # 1. Remove already-targeted companies\n",
    "    previous_years = list(range(2013, year + 1))\n",
    "    mask_targeted_previous_years = df_campaigns['Year'].isin(previous_years) & (\n",
    "        (df_campaigns['Company'].isin(df['company_name'])) | \n",
    "        (df_campaigns['Current_Ticker'].isin(df['ID']))\n",
    "    )\n",
    "    \n",
    "    targeted_companies_previous_years = df_campaigns[mask_targeted_previous_years]['Company'].unique()\n",
    "    df = df[~(current_year_mask & df['company_name'].isin(targeted_companies_previous_years))]\n",
    "    \n",
    "    # 2. Label the 'targeted' column in df as 1 for companies that were targeted in the next year.\n",
    "    mask_targeted_next_year = (df_campaigns['Year'] == year + 1) & (\n",
    "        (df_campaigns['Company'].isin(df['company_name'])) | \n",
    "        (df_campaigns['Current_Ticker'].isin(df['ID']))\n",
    "    )\n",
    "    targeted_companies_next_year = df_campaigns[mask_targeted_next_year]['Company'].unique()\n",
    "    df.loc[current_year_mask & df['company_name'].isin(targeted_companies_next_year), 'targeted'] = 1"
   ]
  },
  {
   "cell_type": "markdown",
   "id": "dd823b5f",
   "metadata": {},
   "source": [
    "After the removal, the proportion of the companies targeted each year is shown below. \n",
    "\n",
    "**Note that campaigns in 2023 were not collected yet**."
   ]
  },
  {
   "cell_type": "code",
   "execution_count": 24,
   "id": "24db6503",
   "metadata": {},
   "outputs": [
    {
     "data": {
      "image/png": "[encoded data removed]",
      "text/plain": [
       "<Figure size 1000x500 with 1 Axes>"
      ]
     },
     "metadata": {},
     "output_type": "display_data"
    }
   ],
   "source": [
    "years = list(range(2016, 2023))\n",
    "targeted_counts = []\n",
    "\n",
    "# Get counts for each year\n",
    "for year in years:\n",
    "    df_year = df[df['year'] == year]\n",
    "    counts = df_year['targeted'].value_counts()\n",
    "    targeted_counts.append(counts)\n",
    "\n",
    "# Convert to DataFrame for easier plotting\n",
    "df_counts = pd.DataFrame(targeted_counts, index=years).fillna(0)\n",
    "\n",
    "# Plotting\n",
    "bar_width = 0.35\n",
    "index = np.arange(len(years))\n",
    "\n",
    "fig, ax = plt.subplots(figsize=(10, 5))\n",
    "\n",
    "bars1 = ax.bar(index, df_counts[0], bar_width, label='Not Targeted', color='blue')\n",
    "bars2 = ax.bar(index + bar_width, df_counts[1], bar_width, label='Targeted', color='red')\n",
    "\n",
    "ax.set_xlabel('Year')\n",
    "ax.set_ylabel('Counts')\n",
    "ax.set_title('Number of Targeted vs. Not Targeted Companies from 2016 to 2022')\n",
    "ax.set_xticks(index + bar_width / 2)\n",
    "ax.set_xticklabels(years)\n",
    "ax.legend()\n",
    "\n",
    "# Annotate bars with count and percentage\n",
    "def annotate_bars(bars, total_counts):\n",
    "    for bar in bars:\n",
    "        height = bar.get_height()\n",
    "        year = years[int(bar.get_x() + bar_width / 2)]\n",
    "        percentage = (height / total_counts.loc[year]) * 100\n",
    "        ax.annotate(f'{height} ({percentage:.2f}%)',\n",
    "                    xy=(bar.get_x() + bar.get_width() / 2, height),\n",
    "                    xytext=(0, 3),  # 3 points vertical offset\n",
    "                    textcoords=\"offset points\",\n",
    "                    ha='center', va='bottom')\n",
    "\n",
    "annotate_bars(bars1, df_counts.sum(axis=1))\n",
    "annotate_bars(bars2, df_counts.sum(axis=1))\n",
    "\n",
    "plt.tight_layout()\n",
    "plt.show()\n"
   ]
  },
  {
   "cell_type": "markdown",
   "id": "4ea3254e",
   "metadata": {},
   "source": [
    "As shown, the proportion of targeted companies each year is around 2%~5%"
   ]
  },
  {
   "cell_type": "markdown",
   "id": "7aa10870",
   "metadata": {},
   "source": [
    "# 4. Export the csv file"
   ]
  },
  {
   "cell_type": "code",
   "execution_count": 25,
   "id": "e3bfd1a2",
   "metadata": {},
   "outputs": [],
   "source": [
    "def transform_value(value):\n",
    "    if value in ['0', '0.0', 0.0]:\n",
    "        return 0.0\n",
    "    elif value in ['1', '1.0', 1.0]:\n",
    "        return 1.0\n",
    "    else:\n",
    "        return np.nan\n",
    "\n",
    "df['unequal_voting'] = df['unequal_voting'].apply(transform_value)\n",
    "df['poison_pill'] = df['poison_pill'].apply(transform_value)"
   ]
  },
  {
   "cell_type": "code",
   "execution_count": 26,
   "id": "ec8c1f92",
   "metadata": {},
   "outputs": [],
   "source": [
    "df.to_csv('../database/2016-2022.csv', index=False)"
   ]
  }
 ],
 "metadata": {
  "kernelspec": {
   "display_name": "Python 3 (ipykernel)",
   "language": "python",
   "name": "python3"
  },
  "language_info": {
   "codemirror_mode": {
    "name": "ipython",
    "version": 3
   },
   "file_extension": ".py",
   "mimetype": "text/x-python",
   "name": "python",
   "nbconvert_exporter": "python",
   "pygments_lexer": "ipython3",
   "version": "3.11.4"
  }
 },
 "nbformat": 4,
 "nbformat_minor": 5
}
